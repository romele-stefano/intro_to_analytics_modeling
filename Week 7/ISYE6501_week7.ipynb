{
  "nbformat": 4,
  "nbformat_minor": 0,
  "metadata": {
    "colab": {
      "name": "ISYE6501-week7.ipynb",
      "version": "0.3.2",
      "provenance": [],
      "collapsed_sections": []
    },
    "kernelspec": {
      "name": "python2",
      "display_name": "Python 2"
    }
  },
  "cells": [
    {
      "cell_type": "code",
      "metadata": {
        "id": "siQVHZoximrc",
        "colab_type": "code",
        "colab": {}
      },
      "source": [
        "# connect to Google Drive \n",
        "!pip install -U -q PyDrive\n",
        "from pydrive.auth import GoogleAuth\n",
        "from pydrive.drive import GoogleDrive\n",
        "from google.colab import auth\n",
        "from oauth2client.client import GoogleCredentials\n",
        "\n",
        "# Authenticate and create the PyDrive client.\n",
        "auth.authenticate_user()\n",
        "gauth = GoogleAuth()\n",
        "gauth.credentials = GoogleCredentials.get_application_default()\n",
        "drive = GoogleDrive(gauth)"
      ],
      "execution_count": 0,
      "outputs": []
    },
    {
      "cell_type": "code",
      "metadata": {
        "id": "NZwPEvnmrhoB",
        "colab_type": "code",
        "outputId": "d524719e-1c8b-47dc-d570-d1dfc329286a",
        "colab": {
          "base_uri": "https://localhost:8080/",
          "height": 190
        }
      },
      "source": [
        "# install pulp for optimization problem\n",
        "!pip install pulp"
      ],
      "execution_count": 5,
      "outputs": [
        {
          "output_type": "stream",
          "text": [
            "Collecting pulp\n",
            "\u001b[?25l  Downloading https://files.pythonhosted.org/packages/2d/33/3ae6d9d2ac8c7068937af6372fd8828ac605e62a8b17106fe57110930d38/PuLP-1.6.10.zip (13.6MB)\n",
            "\u001b[K     |████████████████████████████████| 13.6MB 2.8MB/s \n",
            "\u001b[?25hRequirement already satisfied: pyparsing>=2.0.1 in /usr/local/lib/python2.7/dist-packages (from pulp) (2.4.0)\n",
            "Building wheels for collected packages: pulp\n",
            "  Building wheel for pulp (setup.py) ... \u001b[?25l\u001b[?25hdone\n",
            "  Stored in directory: /root/.cache/pip/wheels/5e/76/77/e28b22219e46e3b4b033f02e8b36b2770ae545bdcf60c2b224\n",
            "Successfully built pulp\n",
            "Installing collected packages: pulp\n",
            "Successfully installed pulp-1.6.10\n"
          ],
          "name": "stdout"
        }
      ]
    },
    {
      "cell_type": "code",
      "metadata": {
        "id": "2yTbXnCwi2nY",
        "colab_type": "code",
        "colab": {}
      },
      "source": [
        "import pandas as pd\n",
        "# for optimization\n",
        "from pulp import *"
      ],
      "execution_count": 0,
      "outputs": []
    },
    {
      "cell_type": "code",
      "metadata": {
        "id": "5bFpA6qijAy_",
        "colab_type": "code",
        "colab": {}
      },
      "source": [
        "downloaded = drive.CreateFile({'id': '1F72tiSyyEqMfbqNyLwcV3S02yNfEpfXJ'}) \n",
        "downloaded.GetContentFile('diet.xls')  \n",
        "data = pd.read_excel('diet.xls') "
      ],
      "execution_count": 0,
      "outputs": []
    },
    {
      "cell_type": "code",
      "metadata": {
        "id": "rr0WGQ1IjlK-",
        "colab_type": "code",
        "colab": {}
      },
      "source": [
        "# remove last 3 rows because are irrelevant to the problem\n",
        "data = data.iloc[:-3]\n"
      ],
      "execution_count": 0,
      "outputs": []
    },
    {
      "cell_type": "code",
      "metadata": {
        "id": "3sayIjLvl9CM",
        "colab_type": "code",
        "outputId": "25979bcb-9056-41b4-bf94-7e33b12dcdbf",
        "colab": {
          "base_uri": "https://localhost:8080/",
          "height": 302
        }
      },
      "source": [
        "# check if the value are removed form the dataset\n",
        "data.tail()"
      ],
      "execution_count": 9,
      "outputs": [
        {
          "output_type": "execute_result",
          "data": {
            "text/html": [
              "<div>\n",
              "<style scoped>\n",
              "    .dataframe tbody tr th:only-of-type {\n",
              "        vertical-align: middle;\n",
              "    }\n",
              "\n",
              "    .dataframe tbody tr th {\n",
              "        vertical-align: top;\n",
              "    }\n",
              "\n",
              "    .dataframe thead th {\n",
              "        text-align: right;\n",
              "    }\n",
              "</style>\n",
              "<table border=\"1\" class=\"dataframe\">\n",
              "  <thead>\n",
              "    <tr style=\"text-align: right;\">\n",
              "      <th></th>\n",
              "      <th>Foods</th>\n",
              "      <th>Price/ Serving</th>\n",
              "      <th>Serving Size</th>\n",
              "      <th>Calories</th>\n",
              "      <th>Cholesterol mg</th>\n",
              "      <th>Total_Fat g</th>\n",
              "      <th>Sodium mg</th>\n",
              "      <th>Carbohydrates g</th>\n",
              "      <th>Dietary_Fiber g</th>\n",
              "      <th>Protein g</th>\n",
              "      <th>Vit_A IU</th>\n",
              "      <th>Vit_C IU</th>\n",
              "      <th>Calcium mg</th>\n",
              "      <th>Iron mg</th>\n",
              "    </tr>\n",
              "  </thead>\n",
              "  <tbody>\n",
              "    <tr>\n",
              "      <th>59</th>\n",
              "      <td>Neweng Clamchwd</td>\n",
              "      <td>0.75</td>\n",
              "      <td>1 C (8 Fl Oz)</td>\n",
              "      <td>175.7</td>\n",
              "      <td>10.0</td>\n",
              "      <td>5.0</td>\n",
              "      <td>1864.9</td>\n",
              "      <td>21.8</td>\n",
              "      <td>1.5</td>\n",
              "      <td>10.9</td>\n",
              "      <td>20.1</td>\n",
              "      <td>4.8</td>\n",
              "      <td>82.8</td>\n",
              "      <td>2.8</td>\n",
              "    </tr>\n",
              "    <tr>\n",
              "      <th>60</th>\n",
              "      <td>Tomato Soup</td>\n",
              "      <td>0.39</td>\n",
              "      <td>1 C (8 Fl Oz)</td>\n",
              "      <td>170.7</td>\n",
              "      <td>0.0</td>\n",
              "      <td>3.8</td>\n",
              "      <td>1744.4</td>\n",
              "      <td>33.2</td>\n",
              "      <td>1.0</td>\n",
              "      <td>4.1</td>\n",
              "      <td>1393.0</td>\n",
              "      <td>133.0</td>\n",
              "      <td>27.6</td>\n",
              "      <td>3.5</td>\n",
              "    </tr>\n",
              "    <tr>\n",
              "      <th>61</th>\n",
              "      <td>New E Clamchwd,W/Mlk</td>\n",
              "      <td>0.99</td>\n",
              "      <td>1 C (8 Fl Oz)</td>\n",
              "      <td>163.7</td>\n",
              "      <td>22.3</td>\n",
              "      <td>6.6</td>\n",
              "      <td>992.0</td>\n",
              "      <td>16.6</td>\n",
              "      <td>1.5</td>\n",
              "      <td>9.5</td>\n",
              "      <td>163.7</td>\n",
              "      <td>3.5</td>\n",
              "      <td>186.0</td>\n",
              "      <td>1.5</td>\n",
              "    </tr>\n",
              "    <tr>\n",
              "      <th>62</th>\n",
              "      <td>Crm Mshrm Soup,W/Mlk</td>\n",
              "      <td>0.65</td>\n",
              "      <td>1 C (8 Fl Oz)</td>\n",
              "      <td>203.4</td>\n",
              "      <td>19.8</td>\n",
              "      <td>13.6</td>\n",
              "      <td>1076.3</td>\n",
              "      <td>15.0</td>\n",
              "      <td>0.5</td>\n",
              "      <td>6.1</td>\n",
              "      <td>153.8</td>\n",
              "      <td>2.2</td>\n",
              "      <td>178.6</td>\n",
              "      <td>0.6</td>\n",
              "    </tr>\n",
              "    <tr>\n",
              "      <th>63</th>\n",
              "      <td>Beanbacn Soup,W/Watr</td>\n",
              "      <td>0.67</td>\n",
              "      <td>1 C (8 Fl Oz)</td>\n",
              "      <td>172.0</td>\n",
              "      <td>2.5</td>\n",
              "      <td>5.9</td>\n",
              "      <td>951.3</td>\n",
              "      <td>22.8</td>\n",
              "      <td>8.6</td>\n",
              "      <td>7.9</td>\n",
              "      <td>888.0</td>\n",
              "      <td>1.5</td>\n",
              "      <td>81.0</td>\n",
              "      <td>2.0</td>\n",
              "    </tr>\n",
              "  </tbody>\n",
              "</table>\n",
              "</div>"
            ],
            "text/plain": [
              "                   Foods  Price/ Serving  ... Calcium mg  Iron mg\n",
              "59       Neweng Clamchwd            0.75  ...       82.8      2.8\n",
              "60           Tomato Soup            0.39  ...       27.6      3.5\n",
              "61  New E Clamchwd,W/Mlk            0.99  ...      186.0      1.5\n",
              "62  Crm Mshrm Soup,W/Mlk            0.65  ...      178.6      0.6\n",
              "63  Beanbacn Soup,W/Watr            0.67  ...       81.0      2.0\n",
              "\n",
              "[5 rows x 14 columns]"
            ]
          },
          "metadata": {
            "tags": []
          },
          "execution_count": 9
        }
      ]
    },
    {
      "cell_type": "code",
      "metadata": {
        "id": "b-BPgSnqs8Rz",
        "colab_type": "code",
        "colab": {}
      },
      "source": [
        "# create optimization problem\n",
        "problem = LpProblem(\"Diet Problem\", LpMinimize)"
      ],
      "execution_count": 0,
      "outputs": []
    },
    {
      "cell_type": "code",
      "metadata": {
        "id": "Q8aTRMwPtFe1",
        "colab_type": "code",
        "colab": {}
      },
      "source": [
        "# create list for each variable\n",
        "food = list(data['Foods'])\n",
        "price = list(data['Price/ Serving'])\n",
        "serving_size = list(data['Serving Size'])\n",
        "calories = list(data['Calories'])\n",
        "cholesterol = list(data['Cholesterol mg'])\n",
        "fat = list(data['Total_Fat g'])\n",
        "sodium = list(data['Sodium mg'])\n",
        "carbs = list(data['Carbohydrates g'])\n",
        "fiber = list(data['Dietary_Fiber g'])\n",
        "protein = list(data['Protein g'])\n",
        "vit_a = list(data['Vit_A IU'])\n",
        "vit_c = list(data['Vit_C IU'])\n",
        "calcium = list(data['Calcium mg'])\n",
        "iron = list(data['Iron mg'])"
      ],
      "execution_count": 0,
      "outputs": []
    }
  ]
}